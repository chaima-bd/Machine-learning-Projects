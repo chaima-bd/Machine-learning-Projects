{
 "cells": [
  {
   "cell_type": "markdown",
   "id": "26bdd76c",
   "metadata": {},
   "source": [
    "# Atelier 3 : Apprentissage supervisé (Classification avec KNN et SVM)\n",
    "Réaliser par :chaimaa bouabd "
   ]
  },
  {
   "cell_type": "markdown",
   "id": "e4191962",
   "metadata": {},
   "source": [
    "### Entraîner les deux modèles (SVM et KNN) sur la base des iris de Fisher en utilisant les deux stratégies d’apprentissage (traditionnel et validation croisée"
   ]
  },
  {
   "cell_type": "code",
   "execution_count": 78,
   "id": "fbe11308",
   "metadata": {},
   "outputs": [],
   "source": [
    "import numpy as np\n",
    "from sklearn.datasets import load_iris # Importation des données\n",
    "from sklearn.model_selection import train_test_split, cross_val_predict\n",
    "from sklearn.model_selection import cross_val_score\n",
    "from sklearn.neighbors import KNeighborsClassifier\n",
    "from sklearn import svm, linear_model\n",
    "from sklearn.metrics import classification_report\n",
    "from sklearn.metrics import f1_score\n",
    "from sklearn.metrics import recall_score\n",
    "from sklearn.metrics import precision_score"
   ]
  },
  {
   "cell_type": "code",
   "execution_count": 79,
   "id": "0b96e365",
   "metadata": {},
   "outputs": [],
   "source": [
    "data = load_iris()\n",
    "x = data.data\n",
    "y = data.target\n",
    "#  puisque l’ensemble des données n’est pas grand, ont choisi a stratégie d'apprentissage traditionnelle 75% pour E et 25% pour le test.\n",
    "x_train, x_test, y_train, y_test = train_test_split(x, y)"
   ]
  },
  {
   "cell_type": "raw",
   "id": "0c88106f",
   "metadata": {},
   "source": [
    "# nous entraînions les modèles SVM et KNN en utilisant la stratégie d'apprentissage traditionnelle\n",
    "# en utilisant les fonctions fit() et predict()"
   ]
  },
  {
   "cell_type": "code",
   "execution_count": 25,
   "id": "1a18b684",
   "metadata": {},
   "outputs": [
    {
     "name": "stdout",
     "output_type": "stream",
     "text": [
      "prediction d'algo SVM\n",
      "[1 2 1 2 1 2 2 1 2 2 1 1 1 2 0 2 1 2 2 2 0 2 1 0 1 2 2 0 2 0 1 2 1 2 2 1 1\n",
      " 2]\n"
     ]
    }
   ],
   "source": [
    "# Entraînement du modèle SVM\n",
    "svm_model = svm.SVC(kernel='linear')\n",
    "svm_model.fit(x_train, y_train)\n",
    "print(\"prediction d'algo SVM\")\n",
    "svm_predictions = svm_model.predict(x_test)\n",
    "print(svm_predictions)"
   ]
  },
  {
   "cell_type": "code",
   "execution_count": 26,
   "id": "12145f77",
   "metadata": {},
   "outputs": [
    {
     "name": "stdout",
     "output_type": "stream",
     "text": [
      "prediction d'algo KNN\n",
      "[1 2 1 2 1 2 2 1 2 2 1 1 1 1 0 2 1 2 2 2 0 1 1 0 1 2 2 0 2 0 1 2 1 2 2 1 1\n",
      " 2]\n"
     ]
    }
   ],
   "source": [
    "# Entraînement du modèle KNN\n",
    "knn_model = KNeighborsClassifier(n_neighbors=3)\n",
    "knn_model.fit(x_train, y_train)\n",
    "knn_predictions = knn_model.predict(x_test)\n",
    "# print(neigh.predict_proba(x_test))\n",
    "print(\"prediction d'algo KNN\")\n",
    "print(knn_predictions)"
   ]
  },
  {
   "cell_type": "raw",
   "id": "cf8b95fe",
   "metadata": {},
   "source": [
    "Avec la method de validation croisée"
   ]
  },
  {
   "cell_type": "code",
   "execution_count": 52,
   "id": "3c96a331",
   "metadata": {},
   "outputs": [],
   "source": [
    "import warnings\n",
    "warnings.filterwarnings('ignore')"
   ]
  },
  {
   "cell_type": "markdown",
   "id": "baa97ebf",
   "metadata": {},
   "source": [
    "### KNN"
   ]
  },
  {
   "cell_type": "code",
   "execution_count": 54,
   "id": "f302f945",
   "metadata": {},
   "outputs": [
    {
     "name": "stdout",
     "output_type": "stream",
     "text": [
      "recall score:  0.8222222222222222\n",
      "precision score: 0.8357407407407408\n",
      "f1 score:  0.7930357459304828\n",
      "score_knn_val:  0.8490118577075098\n",
      "Error score:  0.15098814229249025\n"
     ]
    }
   ],
   "source": [
    "val,val1,val2,val3=[],[],[],[]\n",
    "for i in range(1,50):\n",
    "    score_knn_val=cross_val_score(KNeighborsClassifier(i),x_train,y_train,cv=5,scoring=\"accuracy\").mean()\n",
    "    val.append(score_knn_val)\n",
    "\n",
    "    recall_knn_val=cross_val_score(KNeighborsClassifier(i),x_train,y_train,cv=5,scoring=\"recall_macro\").mean()\n",
    "    val1.append(recall_knn_val)\n",
    "\n",
    "    precision_knn_val=cross_val_score(KNeighborsClassifier(i),x_train,y_train,cv=5,scoring=\"precision_macro\").mean()\n",
    "    val2.append(precision_knn_val)\n",
    "\n",
    "    f1_knn_val=cross_val_score(KNeighborsClassifier(i),x_train,y_train,cv=5,scoring=\"f1_macro\").mean()\n",
    "    val3.append(f1_knn_val)\n",
    "    \n",
    "\n",
    "print(\"recall score: \",recall_knn_val)\n",
    "print(\"precision score:\",precision_knn_val)\n",
    "print(\"f1 score: \",f1_knn_val)\n",
    "print(\"score_knn_val: \", score_knn_val)\n",
    "print(\"Error score: \",1-score_knn_val)"
   ]
  },
  {
   "cell_type": "markdown",
   "id": "ac9a4954",
   "metadata": {},
   "source": [
    "### SVM"
   ]
  },
  {
   "cell_type": "code",
   "execution_count": 64,
   "id": "d769fdb6",
   "metadata": {},
   "outputs": [
    {
     "name": "stdout",
     "output_type": "stream",
     "text": [
      "recall score:  0.9726190476190478\n",
      "precision score: 0.9714285714285715\n",
      "f1 score:  0.9699145299145299\n",
      "Error score:  0.026877470355731292\n"
     ]
    }
   ],
   "source": [
    "from sklearn.svm import SVC\n",
    "val,val1,val2,val3=[],[],[],[]\n",
    "for i in range(1,50):\n",
    "    score_SVM_val=cross_val_score(SVC(C=i),x_train,y_train,cv=5,scoring=\"accuracy\").mean()\n",
    "    val.append(score_SVM_val)\n",
    "\n",
    "    recall_SVM_val=cross_val_score(SVC(C=i),x_train,y_train,cv=5,scoring=\"recall_macro\").mean()\n",
    "    val1.append(recall_SVM_val)\n",
    "\n",
    "    precision_SVM_val=cross_val_score(SVC(C=i),x_train,y_train,cv=5,scoring=\"precision_macro\").mean()\n",
    "    val2.append(precision_SVM_val)\n",
    "\n",
    "    f1_SVM_val=cross_val_score(SVC(C=i),x_train,y_train,cv=5,scoring=\"f1_macro\").mean()\n",
    "    val3.append(f1_SVM_val)\n",
    "    \n",
    "\n",
    "print(\"recall score: \",recall_SVM_val)\n",
    "print(\"precision score:\",precision_SVM_val)\n",
    "print(\"f1 score: \",f1_SVM_val)\n",
    "print(\"Error score: \",1-score_SVM_val)"
   ]
  },
  {
   "cell_type": "markdown",
   "id": "69443c76",
   "metadata": {},
   "source": [
    "## 2- Construire et visualiser la matrice de confusion pour chacun des modèles (et pour les deux stratégies d’apprentissage) sur l’ensemble de test. Qu’observez-vous ?"
   ]
  },
  {
   "cell_type": "code",
   "execution_count": 65,
   "id": "71af6a79",
   "metadata": {},
   "outputs": [
    {
     "name": "stdout",
     "output_type": "stream",
     "text": [
      "Matrice de confusion SVM :\n",
      "[[ 5  0  0]\n",
      " [ 0 14  0]\n",
      " [ 0  0 19]]\n"
     ]
    },
    {
     "data": {
      "image/png": "[encoded data removed]",
      "text/plain": [
       "<Figure size 640x480 with 2 Axes>"
      ]
     },
     "metadata": {},
     "output_type": "display_data"
    },
    {
     "name": "stdout",
     "output_type": "stream",
     "text": [
      "Matrice de confusion KNN :\n",
      "[[ 5  0  0]\n",
      " [ 0 14  0]\n",
      " [ 0  2 17]]\n"
     ]
    },
    {
     "data": {
      "image/png": "[encoded data removed]",
      "text/plain": [
       "<Figure size 640x480 with 2 Axes>"
      ]
     },
     "metadata": {},
     "output_type": "display_data"
    }
   ],
   "source": [
    "from sklearn.metrics import confusion_matrix,accuracy_score,ConfusionMatrixDisplay\n",
    "\n",
    "# Matrice de confusion SVM (apprentissage traditionnel)\n",
    "svm_conf_matrix = confusion_matrix(y_test, svm_predictions)\n",
    "print(\"Matrice de confusion SVM :\")\n",
    "print(svm_conf_matrix)\n",
    "\n",
    "import matplotlib.pyplot as plt\n",
    "import seaborn as sns\n",
    "\n",
    "# Matrice de confusion SVM \n",
    "sns.heatmap(svm_conf_matrix, annot=True, cmap=\"Blues\")\n",
    "plt.title(\"Matrice de confusion SVM \")\n",
    "plt.show()\n",
    "\n",
    "# Matrice de confusion KNN \n",
    "knn_conf_matrix = confusion_matrix(y_test, knn_predictions)\n",
    "print(\"Matrice de confusion KNN :\")\n",
    "print(knn_conf_matrix)\n",
    "# Matrice de confusion KNN \n",
    "sns.heatmap(knn_conf_matrix, annot=True, cmap=\"Blues\")\n",
    "plt.title(\"Matrice de confusion KNN\")\n",
    "plt.show()"
   ]
  },
  {
   "cell_type": "code",
   "execution_count": null,
   "id": "d99813e1",
   "metadata": {},
   "outputs": [],
   "source": [
    "On observe que SVM donne des Résultat mieux que KNN"
   ]
  },
  {
   "cell_type": "markdown",
   "id": "b41a1e2c",
   "metadata": {},
   "source": [
    "## 3- Evaluer la performance de SVM et KNN, en utilisant les métriques : Rappel, Précision, F-score, et Taux d’erreur."
   ]
  },
  {
   "cell_type": "markdown",
   "id": "d01794e1",
   "metadata": {},
   "source": [
    "#### KNN"
   ]
  },
  {
   "cell_type": "code",
   "execution_count": 70,
   "id": "1437e510",
   "metadata": {},
   "outputs": [
    {
     "name": "stdout",
     "output_type": "stream",
     "text": [
      "              precision    recall  f1-score   support\n",
      "\n",
      "           0       1.00      1.00      1.00         5\n",
      "           1       0.88      1.00      0.93        14\n",
      "           2       1.00      0.89      0.94        19\n",
      "\n",
      "    accuracy                           0.95        38\n",
      "   macro avg       0.96      0.96      0.96        38\n",
      "weighted avg       0.95      0.95      0.95        38\n",
      "\n"
     ]
    }
   ],
   "source": [
    "print(classification_report(y_test, knn_model.predict(x_test)))"
   ]
  },
  {
   "cell_type": "code",
   "execution_count": 83,
   "id": "fea80a6d",
   "metadata": {},
   "outputs": [
    {
     "name": "stdout",
     "output_type": "stream",
     "text": [
      "Le f-score: 0.9555555555555556\n",
      "Le rappel: 0.9555555555555556\n",
      "La precison: 0.9555555555555556\n",
      "accurancy: 0.9473684210526315\n"
     ]
    }
   ],
   "source": [
    "recall_KNN_Trad=recall_score(y_test, knn_model.predict(x_test), average='macro')\n",
    "precision_KNN_Trad=precision_score(y_test, knn_model.predict(x_test), average='macro')\n",
    "f1_KNN_Trad=f1_score(y_test, knn_model.predict(x_test), average='macro')\n",
    "erreur_KNN_trad=1-accuracy_score(y_test, knn_model.predict(x_test))\n",
    "print(\"Le f-score:\",f1_KNN_Trad)\n",
    "print(\"Le rappel:\",recall_KNN_Trad)\n",
    "print(\"La precison:\",precision_KNN_Trad)\n",
    "print(\"accurancy:\",accuracy_score(y_test, knn_model.predict(x_test)))"
   ]
  },
  {
   "cell_type": "markdown",
   "id": "4252596e",
   "metadata": {},
   "source": [
    "#### SVM"
   ]
  },
  {
   "cell_type": "code",
   "execution_count": 73,
   "id": "833d2441",
   "metadata": {},
   "outputs": [
    {
     "name": "stdout",
     "output_type": "stream",
     "text": [
      "              precision    recall  f1-score   support\n",
      "\n",
      "           0       1.00      1.00      1.00         5\n",
      "           1       1.00      1.00      1.00        14\n",
      "           2       1.00      1.00      1.00        19\n",
      "\n",
      "    accuracy                           1.00        38\n",
      "   macro avg       1.00      1.00      1.00        38\n",
      "weighted avg       1.00      1.00      1.00        38\n",
      "\n"
     ]
    }
   ],
   "source": [
    "print(classification_report(y_test, svm_model.predict(x_test)))"
   ]
  },
  {
   "cell_type": "code",
   "execution_count": 84,
   "id": "5adf5ab1",
   "metadata": {},
   "outputs": [
    {
     "name": "stdout",
     "output_type": "stream",
     "text": [
      "Le f-score: 1.0\n",
      "Le rappel: 1.0\n",
      "La precison: 1.0\n",
      "accurancy: 1.0\n"
     ]
    }
   ],
   "source": [
    "recall_SVM_Trad=recall_score(y_test, svm_model.predict(x_test), average='macro')\n",
    "precision_SVM_Trad=precision_score(y_test, svm_model.predict(x_test), average='macro')\n",
    "f1_SVM_Trad=f1_score(y_test,svm_model.predict(x_test), average='macro')\n",
    "erreur_SVM_Trad=1-accuracy_score(y_test, svm_model.predict(x_test))\n",
    "print(\"Le f-score:\",f1_SVM_Trad)\n",
    "print(\"Le rappel:\",recall_SVM_Trad)\n",
    "print(\"La precison:\",precision_SVM_Trad)\n",
    "print(\"accurancy:\",accuracy_score(y_test, svm_model.predict(x_test)))"
   ]
  },
  {
   "cell_type": "raw",
   "id": "4ce15508",
   "metadata": {},
   "source": [
    "Dans ce cas le modèle de SVM donne des meilleurs résulatats tandis que KNN donne aussi des bonnes résulatas mais un peu moins par rapport au model SVM\n",
    "##################################################################################"
   ]
  },
  {
   "cell_type": "markdown",
   "id": "203f2596",
   "metadata": {},
   "source": [
    "## 4- Etudiez l’influence du paramètre k sur la performance de KNN."
   ]
  },
  {
   "cell_type": "raw",
   "id": "67f29f0a",
   "metadata": {},
   "source": [
    "    Le choix de la valeur de k est crucial pour obtenir une performance optimale de l'algorithme.\n",
    "\n",
    "    Pour étudier l'influence du paramètre k sur la performance de KNN, nous  entraînons le modèle KNN avec différentes valeurs de k sur l'ensemble  d'apprentissage et évaluer sa performance sur l'ensemble de test."
   ]
  },
  {
   "cell_type": "code",
   "execution_count": 66,
   "id": "3ddb486f",
   "metadata": {},
   "outputs": [
    {
     "name": "stdout",
     "output_type": "stream",
     "text": [
      "k = 1, Taux_de_réussite = 0.95\n",
      "k = 2, Taux_de_réussite = 0.92\n",
      "k = 3, Taux_de_réussite = 0.95\n",
      "k = 4, Taux_de_réussite = 0.95\n",
      "k = 5, Taux_de_réussite = 0.97\n",
      "k = 6, Taux_de_réussite = 0.95\n",
      "k = 7, Taux_de_réussite = 0.97\n",
      "k = 8, Taux_de_réussite = 0.95\n",
      "k = 9, Taux_de_réussite = 0.97\n",
      "k = 10, Taux_de_réussite = 0.95\n",
      "k = 11, Taux_de_réussite = 0.95\n",
      "k = 12, Taux_de_réussite = 0.95\n",
      "k = 13, Taux_de_réussite = 0.95\n",
      "k = 14, Taux_de_réussite = 0.95\n",
      "k = 15, Taux_de_réussite = 0.95\n",
      "k = 16, Taux_de_réussite = 0.95\n",
      "k = 17, Taux_de_réussite = 0.95\n",
      "k = 18, Taux_de_réussite = 0.95\n",
      "k = 19, Taux_de_réussite = 0.97\n"
     ]
    },
    {
     "data": {
      "text/plain": [
       "Text(0, 0.5, 'testing accuracy')"
      ]
     },
     "execution_count": 66,
     "metadata": {},
     "output_type": "execute_result"
    },
    {
     "data": {
      "image/png": "[encoded data removed]",
      "text/plain": [
       "<Figure size 640x480 with 1 Axes>"
      ]
     },
     "metadata": {},
     "output_type": "display_data"
    }
   ],
   "source": [
    "\n",
    "# Valeurs de k à tester\n",
    "k_values = range(1, 20)\n",
    "\n",
    "# Liste pour stocker les scores de chaque modèle\n",
    "scores = []\n",
    "\n",
    "# Boucle sur les valeurs de k\n",
    "for k in k_values:\n",
    "    # Entraînement du modèle avec la valeur de k courante\n",
    "    knn = KNeighborsClassifier(n_neighbors=k)\n",
    "    knn.fit(x_train, y_train)\n",
    "\n",
    "    # Prédiction sur l'ensemble de test\n",
    "    y_pred = knn.predict(x_test)\n",
    "\n",
    "    # Calcul du score de précision et ajout à la liste\n",
    "    Taux_de_réussite = accuracy_score(y_test, y_pred)\n",
    "    scores.append(Taux_de_réussite)\n",
    "\n",
    "# Affichage des scores pour chaque valeur de k\n",
    "for k, score in zip(k_values, scores):\n",
    "    print(f\"k = {k}, Taux_de_réussite = {score:.2f}\")\n",
    "\n",
    "\n",
    "plt.plot(k_values,scores)\n",
    "plt.xlabel(\"value of k for KNN\")\n",
    "plt.ylabel(\"testing accuracy\")\n"
   ]
  },
  {
   "cell_type": "markdown",
   "id": "288e15fb",
   "metadata": {},
   "source": [
    "## Comparer la performance de SVM et KNN, et donner une interprétation des résultats obtenus."
   ]
  },
  {
   "cell_type": "code",
   "execution_count": 87,
   "id": "311e9f9d",
   "metadata": {},
   "outputs": [
    {
     "data": {
      "text/html": [
       "<div>\n",
       "<style scoped>\n",
       "    .dataframe tbody tr th:only-of-type {\n",
       "        vertical-align: middle;\n",
       "    }\n",
       "\n",
       "    .dataframe tbody tr th {\n",
       "        vertical-align: top;\n",
       "    }\n",
       "\n",
       "    .dataframe thead th {\n",
       "        text-align: right;\n",
       "    }\n",
       "</style>\n",
       "<table border=\"1\" class=\"dataframe\">\n",
       "  <thead>\n",
       "    <tr style=\"text-align: right;\">\n",
       "      <th></th>\n",
       "      <th>KNN-traditionnel</th>\n",
       "      <th>knn-validation_croise</th>\n",
       "      <th>SVM-traditionnel</th>\n",
       "      <th>SVM-validation_croise</th>\n",
       "    </tr>\n",
       "  </thead>\n",
       "  <tbody>\n",
       "    <tr>\n",
       "      <th>recall</th>\n",
       "      <td>0.955556</td>\n",
       "      <td>0.822222</td>\n",
       "      <td>1.0</td>\n",
       "      <td>0.972619</td>\n",
       "    </tr>\n",
       "    <tr>\n",
       "      <th>precision</th>\n",
       "      <td>0.955556</td>\n",
       "      <td>0.835741</td>\n",
       "      <td>1.0</td>\n",
       "      <td>0.971429</td>\n",
       "    </tr>\n",
       "    <tr>\n",
       "      <th>F1-score</th>\n",
       "      <td>0.955556</td>\n",
       "      <td>0.793036</td>\n",
       "      <td>1.0</td>\n",
       "      <td>0.969915</td>\n",
       "    </tr>\n",
       "    <tr>\n",
       "      <th>Erreur</th>\n",
       "      <td>0.044444</td>\n",
       "      <td>0.206964</td>\n",
       "      <td>0.0</td>\n",
       "      <td>0.030085</td>\n",
       "    </tr>\n",
       "  </tbody>\n",
       "</table>\n",
       "</div>"
      ],
      "text/plain": [
       "           KNN-traditionnel  knn-validation_croise  SVM-traditionnel  \\\n",
       "recall             0.955556               0.822222               1.0   \n",
       "precision          0.955556               0.835741               1.0   \n",
       "F1-score           0.955556               0.793036               1.0   \n",
       "Erreur             0.044444               0.206964               0.0   \n",
       "\n",
       "           SVM-validation_croise  \n",
       "recall                  0.972619  \n",
       "precision               0.971429  \n",
       "F1-score                0.969915  \n",
       "Erreur                  0.030085  "
      ]
     },
     "execution_count": 87,
     "metadata": {},
     "output_type": "execute_result"
    }
   ],
   "source": [
    "import pandas as pd\n",
    "evaluation = {\n",
    "\"KNN-traditionnel\":{\"recall\":recall_KNN_Trad,\"precision\":precision_KNN_Trad,\"F1-score\":f1_KNN_Trad  , \"Erreur\": 1 - f1_KNN_Trad   },\n",
    "\"knn-validation_croise\":{\"recall\":recall_knn_val,\"precision\":precision_knn_val,\"F1-score\":f1_knn_val , \"Erreur\": 1 - f1_knn_val},\n",
    "\"SVM-traditionnel\":{\"recall\":recall_SVM_Trad,\"precision\":precision_SVM_Trad,\"F1-score\":f1_SVM_Trad  , \"Erreur\": 1 - f1_SVM_Trad },\n",
    "\"SVM-validation_croise\":{\"recall\":recall_SVM_val,\"precision\":precision_SVM_val,\"F1-score\":f1_SVM_val , \"Erreur\": 1 -f1_SVM_val }\n",
    "}\n",
    "\n",
    "pd.DataFrame.from_dict(evaluation)"
   ]
  },
  {
   "cell_type": "raw",
   "id": "be282761",
   "metadata": {},
   "source": [
    "le meuilleur modèle qui donne des bpnne résultats et moins d'erreur est SVM avec la stratégie traditionnel."
   ]
  }
 ],
 "metadata": {
  "kernelspec": {
   "display_name": "Python 3 (ipykernel)",
   "language": "python",
   "name": "python3"
  },
  "language_info": {
   "codemirror_mode": {
    "name": "ipython",
    "version": 3
   },
   "file_extension": ".py",
   "mimetype": "text/x-python",
   "name": "python",
   "nbconvert_exporter": "python",
   "pygments_lexer": "ipython3",
   "version": "3.10.9"
  }
 },
 "nbformat": 4,
 "nbformat_minor": 5
}
